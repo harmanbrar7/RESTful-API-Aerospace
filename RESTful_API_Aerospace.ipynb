{
 "cells": [
  {
   "cell_type": "code",
   "execution_count": null,
   "id": "7af62de0-1b6f-405a-8c0a-111a17f01313",
   "metadata": {},
   "outputs": [],
   "source": [
    "#simple restful API integration of 2 tech sources "
   ]
  },
  {
   "cell_type": "code",
   "execution_count": null,
   "id": "f3ba3c63-6956-455b-b89a-02a5f671f519",
   "metadata": {},
   "outputs": [],
   "source": [
    "import requests\n",
    "from flask import Flask, jsonify\n",
    "\n",
    "app = Flask(__name__)\n",
    "\n",
    "NEWS_API_KEY = 'your-api-key-here'\n",
    "NEWS_API_ENDPOINT = 'https://newsapi.org/v2/top-headlines'\n",
    "TECHCRUNCH_SOURCES = 'techcrunch'\n",
    "SPACECOM_SOURCES = 'space.com'\n",
    "\n",
    "@app.route('/news')\n",
    "def get_news():\n",
    "    # Retrieve the latest tech news from TechCrunch\n",
    "    techcrunch_url = f'{NEWS_API_ENDPOINT}?sources={TECHCRUNCH_SOURCES}&apiKey={NEWS_API_KEY}'\n",
    "    techcrunch_response = requests.get(techcrunch_url)\n",
    "    techcrunch_data = techcrunch_response.json()['articles']\n",
    "    techcrunch_headlines = [article['title'] for article in techcrunch_data]\n",
    "\n",
    "    # Retrieve the latest aerospace news from Space.com\n",
    "    spacecom_url = f'{NEWS_API_ENDPOINT}?sources={SPACECOM_SOURCES}&apiKey={NEWS_API_KEY}'\n",
    "    spacecom_response = requests.get(spacecom_url)\n",
    "    spacecom_data = spacecom_response.json()['articles']\n",
    "    spacecom_headlines = [article['title'] for article in spacecom_data]\n",
    "\n",
    "    # Return the latest headlines for both categories\n",
    "    return jsonify({\n",
    "        'techcrunch': techcrunch_headlines,\n",
    "        'spacecom': spacecom_headlines\n",
    "    })\n",
    "\n",
    "if __name__ == '__main__':\n",
    "    app.run()\n"
   ]
  },
  {
   "cell_type": "code",
   "execution_count": null,
   "id": "08cb2035-28d1-42a2-bfa0-c95a2688d1c7",
   "metadata": {},
   "outputs": [],
   "source": [
    "#expected output example\n",
    "\n",
    "\n",
    "{\n",
    "    \"techcrunch\": [\n",
    "        \"Some tech workers are slowly trickling back to the office\",\n",
    "        \"Growth, risk and copycats in the land of edtech\",\n",
    "        \"Nigeria’s Plentywaka moves into food delivery, transport verticals\",\n",
    "        \"Clubhouse launches payments so creators can make money\",\n",
    "        \"China Roundup: SoftBank leads Didi’s $1.5B round and Meituan crosses $100B valuation\",\n",
    "        \"Apple adds two new voices to Siri’s English-language offerings\",\n",
    "        \"Lifescale raises $4.5M to teach employees how to disconnect from work\",\n",
    "        \"Apple AirTags UX teardown: The trade-off between privacy and user experience\",\n",
    "        \"Gurugram-based Bolo Indya raises $300K led by Eagle10 Ventures\",\n",
    "        \"The UK government will reportedly buy stakes in tech startups\"\n",
    "    ],\n",
    "    \"spacecom\": [\n",
    "        \"On This Day in Space! April 6, 1965: Early Bird becomes 1st commercial comms satellite\",\n",
    "        \"Rockets might be falling to Earth uncontrolled, but don't panic (yet)\",\n",
    "        \"China plans to launch 10 more Tianlian data relay satellites\",\n",
    "        \"Astronaut's 'space handwriting' reveals lingering effects of spaceflight\",\n",
    "        \"Rocket Lab Electron booster launches satellites for BlackSky and others (video)\",\n",
    "        \"BlackSky acquires geospatial analytics firm for more timely insights\",\n",
    "        \"The International Space Station is officially home to 10 mice\",\n",
    "        \"NASA's Mars helicopter Ingenuity aces 4th flight on the Red Planet\",\n",
    "        \"Arianespace Vega rocket lofts Pléiades Neo 3 and six secondary payloads\",\n",
    "        \"SpaceX completes Crew Dragon spacecraft\n",
    "\n",
    "\n",
    "\n",
    "\n"
   ]
  }
 ],
 "metadata": {
  "kernelspec": {
   "display_name": "Python 3 (ipykernel)",
   "language": "python",
   "name": "python3"
  },
  "language_info": {
   "codemirror_mode": {
    "name": "ipython",
    "version": 3
   },
   "file_extension": ".py",
   "mimetype": "text/x-python",
   "name": "python",
   "nbconvert_exporter": "python",
   "pygments_lexer": "ipython3",
   "version": "3.10.8"
  }
 },
 "nbformat": 4,
 "nbformat_minor": 5
}
